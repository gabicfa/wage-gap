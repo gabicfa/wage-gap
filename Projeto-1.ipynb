{
 "cells": [
  {
   "cell_type": "markdown",
   "metadata": {},
   "source": [
    "#Projeto 1 - Disparidades Salariais entre Homens e Mulheres\n",
    "introdução"
   ]
  },
  {
   "cell_type": "code",
   "execution_count": 3,
   "metadata": {
    "collapsed": false
   },
   "outputs": [
    {
     "name": "stdout",
     "output_type": "stream",
     "text": [
      "Esperamos trabalhar no diretório\n",
      "C:\\Users\\gabialmeida\\Documents\\Insper\\Aulas\\2 Semestre\\Ciencias dos Dados\\Projeto 1\n"
     ]
    }
   ],
   "source": [
    "%matplotlib inline\n",
    "\n",
    "import os\n",
    "import pandas as pd\n",
    "from numpy import log\n",
    "import matplotlib.pyplot as plt\n",
    "\n",
    "print('Esperamos trabalhar no diretório')\n",
    "print(os.getcwd())\n",
    "\n",
    "#Funcao para fazer linha de Tendencia em graficos de Dispersao \n",
    "def scatter_and_line(dataframe, column1, column2):\n",
    "    b = dataframe[column1].cov(dataframe[column2]) / dataframe[column1].var()\n",
    "    a = dataframe[column2].mean() - b * dataframe[column1].mean()\n",
    " \n",
    "    pd.DataFrame.plot(kind='scatter', data=dataframe, x=column1, y=column2, color='red')\n",
    " \n",
    "    import matplotlib.pyplot as plt\n",
    "    plt.plot((dataframe[column1].min(), dataframe[column2].max()), (a + b * dataframe[column1].min(), a + b * dataframe[column1].max()), color='blue')\n",
    "    print (a)\n",
    "    print (b)"
   ]
  },
  {
   "cell_type": "code",
   "execution_count": 4,
   "metadata": {
    "collapsed": false
   },
   "outputs": [],
   "source": [
    "#Le o Arquivo\n",
    "dados = pd.read_csv('pes2013P1.csv.gz')"
   ]
  },
  {
   "cell_type": "code",
   "execution_count": 5,
   "metadata": {
    "collapsed": false,
    "scrolled": true
   },
   "outputs": [
    {
     "name": "stderr",
     "output_type": "stream",
     "text": [
      "C:\\Users\\gabialmeida\\Anaconda3\\lib\\site-packages\\pandas\\core\\frame.py:2524: SettingWithCopyWarning: \n",
      "A value is trying to be set on a copy of a slice from a DataFrame\n",
      "\n",
      "See the the caveats in the documentation: http://pandas.pydata.org/pandas-docs/stable/indexing.html#indexing-view-versus-copy\n",
      "  **kwargs)\n",
      "C:\\Users\\gabialmeida\\Anaconda3\\lib\\site-packages\\pandas\\core\\generic.py:2177: SettingWithCopyWarning: \n",
      "A value is trying to be set on a copy of a slice from a DataFrame.\n",
      "Try using .loc[row_indexer,col_indexer] = value instead\n",
      "\n",
      "See the the caveats in the documentation: http://pandas.pydata.org/pandas-docs/stable/indexing.html#indexing-view-versus-copy\n",
      "  self[name] = value\n"
     ]
    }
   ],
   "source": [
    "#Renomiando e Selecionando Dados da Tabela\n",
    "table = dados[(dados.V0402 == 1) & (dados.V9005 == 1) & (dados.V9042 == 2) & (dados.V9029 == 1) & (dados.V4718 < 60000)]\n",
    "\n",
    "table.rename(columns = {'V0302':'Sexo'},inplace = True)\n",
    "table.Sexo = table.Sexo.astype('category')\n",
    "table.Sexo.cat.categories = ('Masc','Fem')\n",
    "\n",
    "table.rename(columns = {'V9032':'Setor'}, inplace = True)\n",
    "table.Setor = table.Setor.astype('category')\n",
    "table.Setor.cat.categories = ('Privado','Publico')\n",
    "\n",
    "table.rename(columns = {'V9611':'Anos_Trab'}, inplace = True)\n",
    "table.rename(columns = {'V4803':'Anos_Estudo'}, inplace = True)\n",
    "table.rename(columns = {'V4707':'Horas/Semana'}, inplace = True)\n",
    "table.rename(columns = {'V4718':'Rendimento'}, inplace = True)\n",
    "table.rename(columns = {'V8005':'Idade'}, inplace = True)\n",
    "\n",
    "table.rename(columns = {'V4745':'Instruçao'}, inplace = True)\n",
    "table.Instruçao = table.Instruçao.astype('category')\n",
    "table.Instruçao.cat.categories = (\"Sem\",'F_i','F_c','EM_i','EM_c','Sup_i','Sup_c','N_det')\n"
   ]
  },
  {
   "cell_type": "code",
   "execution_count": 6,
   "metadata": {
    "collapsed": false,
    "scrolled": true
   },
   "outputs": [
    {
     "name": "stderr",
     "output_type": "stream",
     "text": [
      "C:\\Users\\gabialmeida\\Anaconda3\\lib\\site-packages\\ipykernel\\__main__.py:6: SettingWithCopyWarning: \n",
      "A value is trying to be set on a copy of a slice from a DataFrame.\n",
      "Try using .loc[row_indexer,col_indexer] = value instead\n",
      "\n",
      "See the the caveats in the documentation: http://pandas.pydata.org/pandas-docs/stable/indexing.html#indexing-view-versus-copy\n"
     ]
    }
   ],
   "source": [
    "#Arrumando Tabela com Dados Selecionados\n",
    "dados_selecionados = table.iloc[: ,(2,9,11,12,13,14,15)]\n",
    "\n",
    "#Arrumando Dados dos Salarios \n",
    "dados_selecionados[pd.notnull(table.Rendimento)]\n",
    "dados_selecionados[\"Rendimento\"]=log(dados_selecionados.Rendimento)"
   ]
  },
  {
   "cell_type": "code",
   "execution_count": 7,
   "metadata": {
    "collapsed": false,
    "scrolled": true
   },
   "outputs": [
    {
     "data": {
      "text/html": [
       "<div>\n",
       "<table border=\"1\" class=\"dataframe\">\n",
       "  <thead>\n",
       "    <tr style=\"text-align: right;\">\n",
       "      <th></th>\n",
       "      <th>Sexo</th>\n",
       "      <th>Setor</th>\n",
       "      <th>Anos_Trab</th>\n",
       "      <th>Anos_Estudo</th>\n",
       "      <th>Horas/Semana</th>\n",
       "      <th>Instruçao</th>\n",
       "      <th>Rendimento</th>\n",
       "    </tr>\n",
       "  </thead>\n",
       "  <tbody>\n",
       "    <tr>\n",
       "      <th>3</th>\n",
       "      <td>Masc</td>\n",
       "      <td>Privado</td>\n",
       "      <td>0</td>\n",
       "      <td>1</td>\n",
       "      <td>3</td>\n",
       "      <td>Sem</td>\n",
       "      <td>6.684612</td>\n",
       "    </tr>\n",
       "    <tr>\n",
       "      <th>8</th>\n",
       "      <td>Masc</td>\n",
       "      <td>Privado</td>\n",
       "      <td>0</td>\n",
       "      <td>8</td>\n",
       "      <td>3</td>\n",
       "      <td>F_i</td>\n",
       "      <td>7.003065</td>\n",
       "    </tr>\n",
       "    <tr>\n",
       "      <th>16</th>\n",
       "      <td>Masc</td>\n",
       "      <td>Privado</td>\n",
       "      <td>0</td>\n",
       "      <td>5</td>\n",
       "      <td>3</td>\n",
       "      <td>F_i</td>\n",
       "      <td>7.170120</td>\n",
       "    </tr>\n",
       "    <tr>\n",
       "      <th>17</th>\n",
       "      <td>Masc</td>\n",
       "      <td>Privado</td>\n",
       "      <td>2</td>\n",
       "      <td>5</td>\n",
       "      <td>3</td>\n",
       "      <td>F_i</td>\n",
       "      <td>7.244228</td>\n",
       "    </tr>\n",
       "    <tr>\n",
       "      <th>25</th>\n",
       "      <td>Masc</td>\n",
       "      <td>Privado</td>\n",
       "      <td>2</td>\n",
       "      <td>8</td>\n",
       "      <td>3</td>\n",
       "      <td>F_i</td>\n",
       "      <td>7.003065</td>\n",
       "    </tr>\n",
       "    <tr>\n",
       "      <th>79</th>\n",
       "      <td>Masc</td>\n",
       "      <td>Privado</td>\n",
       "      <td>5</td>\n",
       "      <td>5</td>\n",
       "      <td>4</td>\n",
       "      <td>F_i</td>\n",
       "      <td>8.006368</td>\n",
       "    </tr>\n",
       "    <tr>\n",
       "      <th>83</th>\n",
       "      <td>Masc</td>\n",
       "      <td>Publico</td>\n",
       "      <td>5</td>\n",
       "      <td>12</td>\n",
       "      <td>2</td>\n",
       "      <td>EM_c</td>\n",
       "      <td>7.625595</td>\n",
       "    </tr>\n",
       "    <tr>\n",
       "      <th>123</th>\n",
       "      <td>Masc</td>\n",
       "      <td>Privado</td>\n",
       "      <td>1</td>\n",
       "      <td>12</td>\n",
       "      <td>4</td>\n",
       "      <td>EM_c</td>\n",
       "      <td>6.745236</td>\n",
       "    </tr>\n",
       "    <tr>\n",
       "      <th>163</th>\n",
       "      <td>Masc</td>\n",
       "      <td>Privado</td>\n",
       "      <td>2</td>\n",
       "      <td>5</td>\n",
       "      <td>4</td>\n",
       "      <td>F_i</td>\n",
       "      <td>6.956545</td>\n",
       "    </tr>\n",
       "    <tr>\n",
       "      <th>169</th>\n",
       "      <td>Masc</td>\n",
       "      <td>Privado</td>\n",
       "      <td>5</td>\n",
       "      <td>5</td>\n",
       "      <td>3</td>\n",
       "      <td>F_i</td>\n",
       "      <td>6.907755</td>\n",
       "    </tr>\n",
       "    <tr>\n",
       "      <th>173</th>\n",
       "      <td>Masc</td>\n",
       "      <td>Privado</td>\n",
       "      <td>10</td>\n",
       "      <td>1</td>\n",
       "      <td>3</td>\n",
       "      <td>Sem</td>\n",
       "      <td>6.907755</td>\n",
       "    </tr>\n",
       "    <tr>\n",
       "      <th>180</th>\n",
       "      <td>Masc</td>\n",
       "      <td>Privado</td>\n",
       "      <td>6</td>\n",
       "      <td>1</td>\n",
       "      <td>3</td>\n",
       "      <td>Sem</td>\n",
       "      <td>6.579251</td>\n",
       "    </tr>\n",
       "    <tr>\n",
       "      <th>212</th>\n",
       "      <td>Masc</td>\n",
       "      <td>Privado</td>\n",
       "      <td>2</td>\n",
       "      <td>12</td>\n",
       "      <td>3</td>\n",
       "      <td>EM_c</td>\n",
       "      <td>7.090077</td>\n",
       "    </tr>\n",
       "    <tr>\n",
       "      <th>229</th>\n",
       "      <td>Masc</td>\n",
       "      <td>Privado</td>\n",
       "      <td>13</td>\n",
       "      <td>5</td>\n",
       "      <td>2</td>\n",
       "      <td>F_i</td>\n",
       "      <td>7.313220</td>\n",
       "    </tr>\n",
       "    <tr>\n",
       "      <th>231</th>\n",
       "      <td>Masc</td>\n",
       "      <td>Privado</td>\n",
       "      <td>10</td>\n",
       "      <td>11</td>\n",
       "      <td>2</td>\n",
       "      <td>EM_i</td>\n",
       "      <td>7.244228</td>\n",
       "    </tr>\n",
       "    <tr>\n",
       "      <th>233</th>\n",
       "      <td>Masc</td>\n",
       "      <td>Privado</td>\n",
       "      <td>2</td>\n",
       "      <td>3</td>\n",
       "      <td>3</td>\n",
       "      <td>F_i</td>\n",
       "      <td>7.090077</td>\n",
       "    </tr>\n",
       "    <tr>\n",
       "      <th>235</th>\n",
       "      <td>Masc</td>\n",
       "      <td>Privado</td>\n",
       "      <td>1</td>\n",
       "      <td>6</td>\n",
       "      <td>4</td>\n",
       "      <td>F_i</td>\n",
       "      <td>6.519147</td>\n",
       "    </tr>\n",
       "    <tr>\n",
       "      <th>250</th>\n",
       "      <td>Masc</td>\n",
       "      <td>Privado</td>\n",
       "      <td>2</td>\n",
       "      <td>2</td>\n",
       "      <td>3</td>\n",
       "      <td>F_i</td>\n",
       "      <td>7.090077</td>\n",
       "    </tr>\n",
       "    <tr>\n",
       "      <th>255</th>\n",
       "      <td>Masc</td>\n",
       "      <td>Privado</td>\n",
       "      <td>0</td>\n",
       "      <td>17</td>\n",
       "      <td>4</td>\n",
       "      <td>N_det</td>\n",
       "      <td>7.302496</td>\n",
       "    </tr>\n",
       "    <tr>\n",
       "      <th>265</th>\n",
       "      <td>Masc</td>\n",
       "      <td>Privado</td>\n",
       "      <td>10</td>\n",
       "      <td>1</td>\n",
       "      <td>3</td>\n",
       "      <td>Sem</td>\n",
       "      <td>7.090077</td>\n",
       "    </tr>\n",
       "    <tr>\n",
       "      <th>268</th>\n",
       "      <td>Masc</td>\n",
       "      <td>Privado</td>\n",
       "      <td>3</td>\n",
       "      <td>12</td>\n",
       "      <td>4</td>\n",
       "      <td>EM_c</td>\n",
       "      <td>7.313220</td>\n",
       "    </tr>\n",
       "    <tr>\n",
       "      <th>271</th>\n",
       "      <td>Masc</td>\n",
       "      <td>Privado</td>\n",
       "      <td>5</td>\n",
       "      <td>10</td>\n",
       "      <td>4</td>\n",
       "      <td>EM_i</td>\n",
       "      <td>6.745236</td>\n",
       "    </tr>\n",
       "    <tr>\n",
       "      <th>280</th>\n",
       "      <td>Masc</td>\n",
       "      <td>Privado</td>\n",
       "      <td>0</td>\n",
       "      <td>12</td>\n",
       "      <td>3</td>\n",
       "      <td>EM_c</td>\n",
       "      <td>6.519147</td>\n",
       "    </tr>\n",
       "    <tr>\n",
       "      <th>307</th>\n",
       "      <td>Masc</td>\n",
       "      <td>Privado</td>\n",
       "      <td>0</td>\n",
       "      <td>7</td>\n",
       "      <td>4</td>\n",
       "      <td>F_i</td>\n",
       "      <td>7.090077</td>\n",
       "    </tr>\n",
       "    <tr>\n",
       "      <th>447</th>\n",
       "      <td>Masc</td>\n",
       "      <td>Privado</td>\n",
       "      <td>2</td>\n",
       "      <td>12</td>\n",
       "      <td>3</td>\n",
       "      <td>EM_c</td>\n",
       "      <td>7.170120</td>\n",
       "    </tr>\n",
       "    <tr>\n",
       "      <th>508</th>\n",
       "      <td>Masc</td>\n",
       "      <td>Privado</td>\n",
       "      <td>2</td>\n",
       "      <td>5</td>\n",
       "      <td>5</td>\n",
       "      <td>F_i</td>\n",
       "      <td>6.551080</td>\n",
       "    </tr>\n",
       "    <tr>\n",
       "      <th>592</th>\n",
       "      <td>Masc</td>\n",
       "      <td>Privado</td>\n",
       "      <td>7</td>\n",
       "      <td>3</td>\n",
       "      <td>3</td>\n",
       "      <td>F_i</td>\n",
       "      <td>6.907755</td>\n",
       "    </tr>\n",
       "    <tr>\n",
       "      <th>606</th>\n",
       "      <td>Masc</td>\n",
       "      <td>Privado</td>\n",
       "      <td>0</td>\n",
       "      <td>5</td>\n",
       "      <td>3</td>\n",
       "      <td>F_i</td>\n",
       "      <td>7.824046</td>\n",
       "    </tr>\n",
       "    <tr>\n",
       "      <th>618</th>\n",
       "      <td>Masc</td>\n",
       "      <td>Privado</td>\n",
       "      <td>3</td>\n",
       "      <td>15</td>\n",
       "      <td>3</td>\n",
       "      <td>Sup_i</td>\n",
       "      <td>7.600902</td>\n",
       "    </tr>\n",
       "    <tr>\n",
       "      <th>626</th>\n",
       "      <td>Masc</td>\n",
       "      <td>Privado</td>\n",
       "      <td>2</td>\n",
       "      <td>12</td>\n",
       "      <td>5</td>\n",
       "      <td>EM_c</td>\n",
       "      <td>7.244228</td>\n",
       "    </tr>\n",
       "    <tr>\n",
       "      <th>...</th>\n",
       "      <td>...</td>\n",
       "      <td>...</td>\n",
       "      <td>...</td>\n",
       "      <td>...</td>\n",
       "      <td>...</td>\n",
       "      <td>...</td>\n",
       "      <td>...</td>\n",
       "    </tr>\n",
       "    <tr>\n",
       "      <th>362164</th>\n",
       "      <td>Masc</td>\n",
       "      <td>Privado</td>\n",
       "      <td>0</td>\n",
       "      <td>9</td>\n",
       "      <td>2</td>\n",
       "      <td>F_c</td>\n",
       "      <td>6.715383</td>\n",
       "    </tr>\n",
       "    <tr>\n",
       "      <th>362167</th>\n",
       "      <td>Masc</td>\n",
       "      <td>Privado</td>\n",
       "      <td>0</td>\n",
       "      <td>12</td>\n",
       "      <td>4</td>\n",
       "      <td>EM_c</td>\n",
       "      <td>7.688913</td>\n",
       "    </tr>\n",
       "    <tr>\n",
       "      <th>362171</th>\n",
       "      <td>Masc</td>\n",
       "      <td>Privado</td>\n",
       "      <td>3</td>\n",
       "      <td>12</td>\n",
       "      <td>3</td>\n",
       "      <td>EM_c</td>\n",
       "      <td>7.313220</td>\n",
       "    </tr>\n",
       "    <tr>\n",
       "      <th>362174</th>\n",
       "      <td>Masc</td>\n",
       "      <td>Privado</td>\n",
       "      <td>11</td>\n",
       "      <td>12</td>\n",
       "      <td>2</td>\n",
       "      <td>EM_c</td>\n",
       "      <td>7.549609</td>\n",
       "    </tr>\n",
       "    <tr>\n",
       "      <th>362183</th>\n",
       "      <td>Masc</td>\n",
       "      <td>Privado</td>\n",
       "      <td>2</td>\n",
       "      <td>12</td>\n",
       "      <td>2</td>\n",
       "      <td>EM_c</td>\n",
       "      <td>7.696213</td>\n",
       "    </tr>\n",
       "    <tr>\n",
       "      <th>362186</th>\n",
       "      <td>Masc</td>\n",
       "      <td>Privado</td>\n",
       "      <td>1</td>\n",
       "      <td>12</td>\n",
       "      <td>3</td>\n",
       "      <td>EM_c</td>\n",
       "      <td>7.178545</td>\n",
       "    </tr>\n",
       "    <tr>\n",
       "      <th>362190</th>\n",
       "      <td>Masc</td>\n",
       "      <td>Privado</td>\n",
       "      <td>19</td>\n",
       "      <td>12</td>\n",
       "      <td>4</td>\n",
       "      <td>EM_c</td>\n",
       "      <td>8.294050</td>\n",
       "    </tr>\n",
       "    <tr>\n",
       "      <th>362259</th>\n",
       "      <td>Masc</td>\n",
       "      <td>Privado</td>\n",
       "      <td>2</td>\n",
       "      <td>12</td>\n",
       "      <td>2</td>\n",
       "      <td>EM_c</td>\n",
       "      <td>7.377759</td>\n",
       "    </tr>\n",
       "    <tr>\n",
       "      <th>362263</th>\n",
       "      <td>Masc</td>\n",
       "      <td>Privado</td>\n",
       "      <td>0</td>\n",
       "      <td>9</td>\n",
       "      <td>4</td>\n",
       "      <td>F_c</td>\n",
       "      <td>6.802395</td>\n",
       "    </tr>\n",
       "    <tr>\n",
       "      <th>362265</th>\n",
       "      <td>Masc</td>\n",
       "      <td>Privado</td>\n",
       "      <td>0</td>\n",
       "      <td>10</td>\n",
       "      <td>4</td>\n",
       "      <td>EM_i</td>\n",
       "      <td>6.519147</td>\n",
       "    </tr>\n",
       "    <tr>\n",
       "      <th>362272</th>\n",
       "      <td>Masc</td>\n",
       "      <td>Privado</td>\n",
       "      <td>6</td>\n",
       "      <td>12</td>\n",
       "      <td>5</td>\n",
       "      <td>EM_c</td>\n",
       "      <td>6.551080</td>\n",
       "    </tr>\n",
       "    <tr>\n",
       "      <th>362275</th>\n",
       "      <td>Masc</td>\n",
       "      <td>Privado</td>\n",
       "      <td>2</td>\n",
       "      <td>4</td>\n",
       "      <td>5</td>\n",
       "      <td>F_i</td>\n",
       "      <td>6.927558</td>\n",
       "    </tr>\n",
       "    <tr>\n",
       "      <th>362286</th>\n",
       "      <td>Masc</td>\n",
       "      <td>Publico</td>\n",
       "      <td>19</td>\n",
       "      <td>12</td>\n",
       "      <td>3</td>\n",
       "      <td>EM_c</td>\n",
       "      <td>8.006368</td>\n",
       "    </tr>\n",
       "    <tr>\n",
       "      <th>362305</th>\n",
       "      <td>Masc</td>\n",
       "      <td>Privado</td>\n",
       "      <td>0</td>\n",
       "      <td>9</td>\n",
       "      <td>3</td>\n",
       "      <td>F_c</td>\n",
       "      <td>7.937375</td>\n",
       "    </tr>\n",
       "    <tr>\n",
       "      <th>362316</th>\n",
       "      <td>Masc</td>\n",
       "      <td>Privado</td>\n",
       "      <td>0</td>\n",
       "      <td>12</td>\n",
       "      <td>2</td>\n",
       "      <td>EM_c</td>\n",
       "      <td>6.802395</td>\n",
       "    </tr>\n",
       "    <tr>\n",
       "      <th>362331</th>\n",
       "      <td>Masc</td>\n",
       "      <td>Privado</td>\n",
       "      <td>0</td>\n",
       "      <td>13</td>\n",
       "      <td>3</td>\n",
       "      <td>Sup_i</td>\n",
       "      <td>7.495542</td>\n",
       "    </tr>\n",
       "    <tr>\n",
       "      <th>362338</th>\n",
       "      <td>Masc</td>\n",
       "      <td>Privado</td>\n",
       "      <td>15</td>\n",
       "      <td>15</td>\n",
       "      <td>5</td>\n",
       "      <td>Sup_i</td>\n",
       "      <td>8.006368</td>\n",
       "    </tr>\n",
       "    <tr>\n",
       "      <th>362369</th>\n",
       "      <td>Masc</td>\n",
       "      <td>Privado</td>\n",
       "      <td>2</td>\n",
       "      <td>4</td>\n",
       "      <td>4</td>\n",
       "      <td>F_i</td>\n",
       "      <td>6.519147</td>\n",
       "    </tr>\n",
       "    <tr>\n",
       "      <th>362379</th>\n",
       "      <td>Masc</td>\n",
       "      <td>Privado</td>\n",
       "      <td>12</td>\n",
       "      <td>5</td>\n",
       "      <td>5</td>\n",
       "      <td>F_i</td>\n",
       "      <td>6.551080</td>\n",
       "    </tr>\n",
       "    <tr>\n",
       "      <th>362392</th>\n",
       "      <td>Masc</td>\n",
       "      <td>Privado</td>\n",
       "      <td>8</td>\n",
       "      <td>8</td>\n",
       "      <td>5</td>\n",
       "      <td>F_i</td>\n",
       "      <td>7.090077</td>\n",
       "    </tr>\n",
       "    <tr>\n",
       "      <th>362417</th>\n",
       "      <td>Masc</td>\n",
       "      <td>Privado</td>\n",
       "      <td>13</td>\n",
       "      <td>12</td>\n",
       "      <td>3</td>\n",
       "      <td>EM_c</td>\n",
       "      <td>7.377759</td>\n",
       "    </tr>\n",
       "    <tr>\n",
       "      <th>362435</th>\n",
       "      <td>Masc</td>\n",
       "      <td>Privado</td>\n",
       "      <td>0</td>\n",
       "      <td>6</td>\n",
       "      <td>3</td>\n",
       "      <td>F_i</td>\n",
       "      <td>6.745236</td>\n",
       "    </tr>\n",
       "    <tr>\n",
       "      <th>362448</th>\n",
       "      <td>Masc</td>\n",
       "      <td>Publico</td>\n",
       "      <td>20</td>\n",
       "      <td>12</td>\n",
       "      <td>2</td>\n",
       "      <td>EM_c</td>\n",
       "      <td>8.006368</td>\n",
       "    </tr>\n",
       "    <tr>\n",
       "      <th>362467</th>\n",
       "      <td>Masc</td>\n",
       "      <td>Privado</td>\n",
       "      <td>1</td>\n",
       "      <td>12</td>\n",
       "      <td>3</td>\n",
       "      <td>EM_c</td>\n",
       "      <td>6.684612</td>\n",
       "    </tr>\n",
       "    <tr>\n",
       "      <th>362471</th>\n",
       "      <td>Masc</td>\n",
       "      <td>Privado</td>\n",
       "      <td>11</td>\n",
       "      <td>12</td>\n",
       "      <td>3</td>\n",
       "      <td>EM_c</td>\n",
       "      <td>7.272398</td>\n",
       "    </tr>\n",
       "    <tr>\n",
       "      <th>362506</th>\n",
       "      <td>Masc</td>\n",
       "      <td>Publico</td>\n",
       "      <td>38</td>\n",
       "      <td>16</td>\n",
       "      <td>3</td>\n",
       "      <td>Sup_c</td>\n",
       "      <td>9.615805</td>\n",
       "    </tr>\n",
       "    <tr>\n",
       "      <th>362510</th>\n",
       "      <td>Masc</td>\n",
       "      <td>Privado</td>\n",
       "      <td>0</td>\n",
       "      <td>14</td>\n",
       "      <td>3</td>\n",
       "      <td>Sup_i</td>\n",
       "      <td>6.907755</td>\n",
       "    </tr>\n",
       "    <tr>\n",
       "      <th>362520</th>\n",
       "      <td>Masc</td>\n",
       "      <td>Privado</td>\n",
       "      <td>0</td>\n",
       "      <td>11</td>\n",
       "      <td>3</td>\n",
       "      <td>EM_i</td>\n",
       "      <td>6.620073</td>\n",
       "    </tr>\n",
       "    <tr>\n",
       "      <th>362538</th>\n",
       "      <td>Masc</td>\n",
       "      <td>Privado</td>\n",
       "      <td>4</td>\n",
       "      <td>6</td>\n",
       "      <td>3</td>\n",
       "      <td>F_i</td>\n",
       "      <td>7.090077</td>\n",
       "    </tr>\n",
       "    <tr>\n",
       "      <th>362540</th>\n",
       "      <td>Masc</td>\n",
       "      <td>Privado</td>\n",
       "      <td>2</td>\n",
       "      <td>12</td>\n",
       "      <td>5</td>\n",
       "      <td>EM_c</td>\n",
       "      <td>7.377759</td>\n",
       "    </tr>\n",
       "  </tbody>\n",
       "</table>\n",
       "<p>20298 rows × 7 columns</p>\n",
       "</div>"
      ],
      "text/plain": [
       "        Sexo    Setor  Anos_Trab  Anos_Estudo  Horas/Semana Instruçao  \\\n",
       "3       Masc  Privado          0            1             3       Sem   \n",
       "8       Masc  Privado          0            8             3       F_i   \n",
       "16      Masc  Privado          0            5             3       F_i   \n",
       "17      Masc  Privado          2            5             3       F_i   \n",
       "25      Masc  Privado          2            8             3       F_i   \n",
       "79      Masc  Privado          5            5             4       F_i   \n",
       "83      Masc  Publico          5           12             2      EM_c   \n",
       "123     Masc  Privado          1           12             4      EM_c   \n",
       "163     Masc  Privado          2            5             4       F_i   \n",
       "169     Masc  Privado          5            5             3       F_i   \n",
       "173     Masc  Privado         10            1             3       Sem   \n",
       "180     Masc  Privado          6            1             3       Sem   \n",
       "212     Masc  Privado          2           12             3      EM_c   \n",
       "229     Masc  Privado         13            5             2       F_i   \n",
       "231     Masc  Privado         10           11             2      EM_i   \n",
       "233     Masc  Privado          2            3             3       F_i   \n",
       "235     Masc  Privado          1            6             4       F_i   \n",
       "250     Masc  Privado          2            2             3       F_i   \n",
       "255     Masc  Privado          0           17             4     N_det   \n",
       "265     Masc  Privado         10            1             3       Sem   \n",
       "268     Masc  Privado          3           12             4      EM_c   \n",
       "271     Masc  Privado          5           10             4      EM_i   \n",
       "280     Masc  Privado          0           12             3      EM_c   \n",
       "307     Masc  Privado          0            7             4       F_i   \n",
       "447     Masc  Privado          2           12             3      EM_c   \n",
       "508     Masc  Privado          2            5             5       F_i   \n",
       "592     Masc  Privado          7            3             3       F_i   \n",
       "606     Masc  Privado          0            5             3       F_i   \n",
       "618     Masc  Privado          3           15             3     Sup_i   \n",
       "626     Masc  Privado          2           12             5      EM_c   \n",
       "...      ...      ...        ...          ...           ...       ...   \n",
       "362164  Masc  Privado          0            9             2       F_c   \n",
       "362167  Masc  Privado          0           12             4      EM_c   \n",
       "362171  Masc  Privado          3           12             3      EM_c   \n",
       "362174  Masc  Privado         11           12             2      EM_c   \n",
       "362183  Masc  Privado          2           12             2      EM_c   \n",
       "362186  Masc  Privado          1           12             3      EM_c   \n",
       "362190  Masc  Privado         19           12             4      EM_c   \n",
       "362259  Masc  Privado          2           12             2      EM_c   \n",
       "362263  Masc  Privado          0            9             4       F_c   \n",
       "362265  Masc  Privado          0           10             4      EM_i   \n",
       "362272  Masc  Privado          6           12             5      EM_c   \n",
       "362275  Masc  Privado          2            4             5       F_i   \n",
       "362286  Masc  Publico         19           12             3      EM_c   \n",
       "362305  Masc  Privado          0            9             3       F_c   \n",
       "362316  Masc  Privado          0           12             2      EM_c   \n",
       "362331  Masc  Privado          0           13             3     Sup_i   \n",
       "362338  Masc  Privado         15           15             5     Sup_i   \n",
       "362369  Masc  Privado          2            4             4       F_i   \n",
       "362379  Masc  Privado         12            5             5       F_i   \n",
       "362392  Masc  Privado          8            8             5       F_i   \n",
       "362417  Masc  Privado         13           12             3      EM_c   \n",
       "362435  Masc  Privado          0            6             3       F_i   \n",
       "362448  Masc  Publico         20           12             2      EM_c   \n",
       "362467  Masc  Privado          1           12             3      EM_c   \n",
       "362471  Masc  Privado         11           12             3      EM_c   \n",
       "362506  Masc  Publico         38           16             3     Sup_c   \n",
       "362510  Masc  Privado          0           14             3     Sup_i   \n",
       "362520  Masc  Privado          0           11             3      EM_i   \n",
       "362538  Masc  Privado          4            6             3       F_i   \n",
       "362540  Masc  Privado          2           12             5      EM_c   \n",
       "\n",
       "        Rendimento  \n",
       "3         6.684612  \n",
       "8         7.003065  \n",
       "16        7.170120  \n",
       "17        7.244228  \n",
       "25        7.003065  \n",
       "79        8.006368  \n",
       "83        7.625595  \n",
       "123       6.745236  \n",
       "163       6.956545  \n",
       "169       6.907755  \n",
       "173       6.907755  \n",
       "180       6.579251  \n",
       "212       7.090077  \n",
       "229       7.313220  \n",
       "231       7.244228  \n",
       "233       7.090077  \n",
       "235       6.519147  \n",
       "250       7.090077  \n",
       "255       7.302496  \n",
       "265       7.090077  \n",
       "268       7.313220  \n",
       "271       6.745236  \n",
       "280       6.519147  \n",
       "307       7.090077  \n",
       "447       7.170120  \n",
       "508       6.551080  \n",
       "592       6.907755  \n",
       "606       7.824046  \n",
       "618       7.600902  \n",
       "626       7.244228  \n",
       "...            ...  \n",
       "362164    6.715383  \n",
       "362167    7.688913  \n",
       "362171    7.313220  \n",
       "362174    7.549609  \n",
       "362183    7.696213  \n",
       "362186    7.178545  \n",
       "362190    8.294050  \n",
       "362259    7.377759  \n",
       "362263    6.802395  \n",
       "362265    6.519147  \n",
       "362272    6.551080  \n",
       "362275    6.927558  \n",
       "362286    8.006368  \n",
       "362305    7.937375  \n",
       "362316    6.802395  \n",
       "362331    7.495542  \n",
       "362338    8.006368  \n",
       "362369    6.519147  \n",
       "362379    6.551080  \n",
       "362392    7.090077  \n",
       "362417    7.377759  \n",
       "362435    6.745236  \n",
       "362448    8.006368  \n",
       "362467    6.684612  \n",
       "362471    7.272398  \n",
       "362506    9.615805  \n",
       "362510    6.907755  \n",
       "362520    6.620073  \n",
       "362538    7.090077  \n",
       "362540    7.377759  \n",
       "\n",
       "[20298 rows x 7 columns]"
      ]
     },
     "execution_count": 7,
     "metadata": {},
     "output_type": "execute_result"
    }
   ],
   "source": [
    "#Separando Homens de Mulheres\n",
    "table01 = dados_selecionados[dados_selecionados.Sexo == 'Masc']\n",
    "table02 = dados_selecionados[dados_selecionados.Sexo == 'Fem']\n",
    "\n",
    "table01"
   ]
  },
  {
   "cell_type": "code",
   "execution_count": 8,
   "metadata": {
    "collapsed": false
   },
   "outputs": [],
   "source": [
    "#CRIANDO TABELAS DE ANOS DE TRABALHO E RESPECTIVOS SALARIOS PARA HOMENS \n",
    "\n",
    "#Tabela com Salarios de Homens que trabalham de 0 a 10 anos\n",
    "zero_a_dezh= table01[(table01.Anos_Trab == 0)| (table01.Anos_Trab == 1)| (table01.Anos_Trab == 2)| (table01.Anos_Trab ==3)| (table01.Anos_Trab == 4)| (table01.Anos_Trab == 5)|(table01.Anos_Trab == 6)| (table01.Anos_Trab == 7)| (table01.Anos_Trab == 8)| (table01.Anos_Trab ==9)| (table01.Anos_Trab == 10)]\n",
    "zero_a_dezh.rename(columns = {'Rendimento':'H_zero_a_dez'}, inplace = True)\n",
    "Anos_zero_a_dezh = zero_a_dezh.H_zero_a_dez\n",
    "\n",
    "#Tabela com Salarios de Homens que trabalham de 11 a 20 anos\n",
    "onze_a_vinteh= table01[(table01.Anos_Trab == 11)| (table01.Anos_Trab == 12)| (table01.Anos_Trab == 13)| (table01.Anos_Trab ==14)| (table01.Anos_Trab == 15)| (table01.Anos_Trab == 16)|(table01.Anos_Trab == 17)| (table01.Anos_Trab == 18)| (table01.Anos_Trab == 19)| (table01.Anos_Trab ==20)]\n",
    "onze_a_vinteh.rename(columns = {'Rendimento':'H_onze_a_vinte'}, inplace = True)\n",
    "Anos_onze_a_vinteh = onze_a_vinteh.H_onze_a_vinte\n",
    "\n",
    "#Tabela com Salarios de Homens que trabalham de 21 a 30 anos\n",
    "vinteum_a_trintah= table01[(table01.Anos_Trab == 21)| (table01.Anos_Trab == 22)| (table01.Anos_Trab == 23)| (table01.Anos_Trab ==24)| (table01.Anos_Trab == 25)| (table01.Anos_Trab == 26)|(table01.Anos_Trab == 27)| (table01.Anos_Trab == 28)| (table01.Anos_Trab == 29)| (table01.Anos_Trab ==30)]\n",
    "vinteum_a_trintah.rename(columns = {'Rendimento':'H_vinteum_a_trinta'}, inplace = True)\n",
    "Anos_vinteum_a_trintah = vinteum_a_trintah.H_vinteum_a_trinta\n",
    "\n",
    "#Tabela com Salarios de Homens que trabalham de 31 a 40 anos\n",
    "trintaum_a_quarentah= table01[(table01.Anos_Trab == 31)| (table01.Anos_Trab == 32)| (table01.Anos_Trab == 33)| (table01.Anos_Trab == 34)| (table01.Anos_Trab == 35) |(table01.Anos_Trab == 36)|(table01.Anos_Trab == 37)| (table01.Anos_Trab == 38)| (table01.Anos_Trab == 39)| (table01.Anos_Trab ==40)]\n",
    "trintaum_a_quarentah.rename(columns = {'Rendimento':'H_trintaum_a_quarenta'}, inplace = True)\n",
    "Anos_trintaum_a_quarentah = trintaum_a_quarentah.H_trintaum_a_quarenta\n",
    "\n",
    "#Tabela com Salarios de Homens que trabalham de 41 a 50 anos\n",
    "quarentaum_a_cinquentah= table01[(table01.Anos_Trab == 41)| (table01.Anos_Trab == 42)| (table01.Anos_Trab == 43)| (table01.Anos_Trab == 44)| (table01.Anos_Trab == 45) |(table01.Anos_Trab == 46)|(table01.Anos_Trab == 47)| (table01.Anos_Trab == 48)| (table01.Anos_Trab == 49)| (table01.Anos_Trab ==50)]\n",
    "quarentaum_a_cinquentah.rename(columns = {'Rendimento':'H_quarentaum_a_cinquenta'}, inplace = True)\n",
    "Anos_quarentaum_a_cinquentah = quarentaum_a_cinquentah.H_quarentaum_a_cinquenta\n",
    "\n",
    "#Tabela com Salarios de Homens que trabalham de 51 a 60 anos\n",
    "cinquentaum_a_sessentah= table01[(table01.Anos_Trab == 51)| (table01.Anos_Trab == 52)| (table01.Anos_Trab == 53)| (table01.Anos_Trab == 54)| (table01.Anos_Trab == 55)| (table01.Anos_Trab == 56)|(table01.Anos_Trab == 57)| (table01.Anos_Trab == 58)| (table01.Anos_Trab == 59)| (table01.Anos_Trab ==60)]\n",
    "cinquentaum_a_sessentah.rename(columns = {'Rendimento':'H_cinquentaum_a_sessenta'}, inplace = True)\n",
    "Anos_cinquentaum_a_sessentah = cinquentaum_a_sessentah.H_cinquentaum_a_sessenta"
   ]
  },
  {
   "cell_type": "code",
   "execution_count": 9,
   "metadata": {
    "collapsed": false
   },
   "outputs": [],
   "source": [
    "#CRIANDO TABELAS DE ANOS DE TRABALHO E RESPECTIVOS SALARIOS PARA MULHERES\n",
    "\n",
    "#Tabela com Salarios de Mulheres que trabalham de 0 a 10 anos\n",
    "zero_a_dezm= table02[(table02.Anos_Trab == 0)| (table02.Anos_Trab == 1)| (table02.Anos_Trab == 2)| (table02.Anos_Trab ==3)| (table02.Anos_Trab == 4)| (table02.Anos_Trab == 5)|(table02.Anos_Trab == 6)| (table02.Anos_Trab == 7)| (table02.Anos_Trab == 8)| (table02.Anos_Trab ==9)| (table02.Anos_Trab == 10)]\n",
    "zero_a_dezm.rename(columns = {'Rendimento':'M_zero_a_dez'}, inplace = True)\n",
    "Anos_zero_a_dezm = zero_a_dezm.M_zero_a_dez\n",
    "\n",
    "#Tabela com Salarios de Mulheres que trabalham de 11 a 20 anos\n",
    "onze_a_vintem= table02[(table02.Anos_Trab == 11)| (table02.Anos_Trab == 12)| (table02.Anos_Trab == 13)| (table02.Anos_Trab ==14)| (table02.Anos_Trab == 15)| (table02.Anos_Trab == 16)|(table02.Anos_Trab == 17)| (table02.Anos_Trab == 18)| (table02.Anos_Trab == 19)| (table02.Anos_Trab ==20)]\n",
    "onze_a_vintem.rename(columns = {'Rendimento':'M_onze_a_vinte'}, inplace = True)\n",
    "Anos_onze_a_vintem = onze_a_vintem.M_onze_a_vinte\n",
    "\n",
    "#Tabela com Salarios de Mulheres que trabalham de 21 a 30 anos\n",
    "vinteum_a_trintam= table02[(table02.Anos_Trab == 21)| (table02.Anos_Trab == 22)| (table02.Anos_Trab == 23)| (table02.Anos_Trab ==24)| (table02.Anos_Trab == 25)| (table02.Anos_Trab == 26)|(table02.Anos_Trab == 27)| (table02.Anos_Trab == 28)| (table02.Anos_Trab == 29)| (table02.Anos_Trab ==30)]\n",
    "vinteum_a_trintam.rename(columns = {'Rendimento':'M_vinteum_a_trinta'}, inplace = True)\n",
    "Anos_vinteum_a_trintam = vinteum_a_trintam.M_vinteum_a_trinta\n",
    "\n",
    "#Tabela com Salarios de Mulheres que trabalham de 31 a 40 anos\n",
    "trintaum_a_quarentam= table02[(table02.Anos_Trab == 31)| (table02.Anos_Trab == 32)| (table02.Anos_Trab == 33)| (table02.Anos_Trab == 34)| (table02.Anos_Trab == 35)| (table02.Anos_Trab == 36)|(table02.Anos_Trab == 37)| (table02.Anos_Trab == 38)| (table02.Anos_Trab == 39)| (table02.Anos_Trab ==40)]\n",
    "trintaum_a_quarentam.rename(columns = {'Rendimento':'M_trintaum_a_quarenta'}, inplace = True)\n",
    "Anos_trintaum_a_quarentam = trintaum_a_quarentam.M_trintaum_a_quarenta\n",
    "\n",
    "#Tabela com Salarios de Mulheres que trabalham de 41 a 50 anos\n",
    "quarentaum_a_cinquentam= table02[(table02.Anos_Trab == 41)| (table02.Anos_Trab == 42)| (table02.Anos_Trab == 43)| (table02.Anos_Trab == 44)| (table02.Anos_Trab == 45) |(table02.Anos_Trab == 46)|(table02.Anos_Trab == 47)| (table02.Anos_Trab == 48)| (table02.Anos_Trab == 49)| (table02.Anos_Trab ==50)]\n",
    "quarentaum_a_cinquentam.rename(columns = {'Rendimento':'M_quarentaum_a_cinquenta'}, inplace = True)\n",
    "Anos_quarentaum_a_cinquentam = quarentaum_a_cinquentam.M_quarentaum_a_cinquenta\n",
    "\n",
    "#Tabela com Salarios de Mulheres que trabalham de 51 a 60 anos\n",
    "cinquentaum_a_sessentam= table02[(table02.Anos_Trab == 51)| (table02.Anos_Trab == 52)| (table02.Anos_Trab == 53)| (table02.Anos_Trab == 54)| (table02.Anos_Trab == 55)| (table02.Anos_Trab == 56)|(table02.Anos_Trab == 57)| (table02.Anos_Trab == 58)| (table02.Anos_Trab == 59)| (table02.Anos_Trab ==60)]\n",
    "cinquentaum_a_sessentam.rename(columns = {'Rendimento':'M_cinquentaum_a_sessenta'}, inplace = True)\n",
    "Anos_cinquentaum_a_sessentam = cinquentaum_a_sessentam.M_cinquentaum_a_sessenta"
   ]
  },
  {
   "cell_type": "code",
   "execution_count": 10,
   "metadata": {
    "collapsed": false
   },
   "outputs": [],
   "source": [
    "#CRIANDO TABELAS DE NIVEL DE INSTRUCAO E RESPECTIVOS SALARIOS PARA HOMENS \n",
    "\n",
    "#Tabela com Salarios de Homens Sem Instrucao\n",
    "Semh= table01[table01.Instruçao == 'Sem']\n",
    "Semh.rename(columns = {'Rendimento':'H_Sem_Inst'}, inplace = True)\n",
    "Instruçao_Semh = Semh.H_Sem_Inst\n",
    "\n",
    "#Tabela com Salarios de Homens com Fudamental Incompleto\n",
    "F_ih= table01[table01.Instruçao == 'F_i']\n",
    "F_ih.rename(columns = {'Rendimento':'H_F_i'}, inplace = True)\n",
    "Instruçao_F_ih = F_ih.H_F_i\n",
    "\n",
    "#Tabela com Salarios de Homens com Fundamental Completo\n",
    "F_ch= table01[table01.Instruçao == 'F_c']\n",
    "F_ch.rename(columns = {'Rendimento':'H_F_c'}, inplace = True)\n",
    "Instruçao_F_ch = F_ch.H_F_c\n",
    "\n",
    "#Tabela com Salarios de Homens com Medio Incompleto\n",
    "EM_ih= table01[table01.Instruçao == 'EM_i']\n",
    "EM_ih.rename(columns = {'Rendimento':'H_EM_i'}, inplace = True)\n",
    "Instruçao_EM_ih = EM_ih.H_EM_i\n",
    "\n",
    "#Tabela com Salarios de Homens com Medio Completo\n",
    "EM_ch= table01[table01.Instruçao == 'EM_c']\n",
    "EM_ch.rename(columns = {'Rendimento':'H_EM_c'}, inplace = True)\n",
    "Instruçao_EM_ch = EM_ch.H_EM_c\n",
    "\n",
    "#Tabela com Salarios de Homens com Superior Incompleto\n",
    "Sup_ih= table01[table01.Instruçao == 'Sup_i']\n",
    "Sup_ih.rename(columns = {'Rendimento':'H_Sup_i'}, inplace = True)             \n",
    "Instruçao_Sup_ih = Sup_ih.H_Sup_i\n",
    "\n",
    "#Tabela com Salarios de Homens com Superior Completo\n",
    "Sup_ch= table01[table01.Instruçao == 'Sup_c']\n",
    "Sup_ch.rename(columns = {'Rendimento':'H_Sup_c'}, inplace = True)                          \n",
    "Instruçao_Sup_ch = Sup_ch.H_Sup_c"
   ]
  },
  {
   "cell_type": "code",
   "execution_count": 11,
   "metadata": {
    "collapsed": false
   },
   "outputs": [],
   "source": [
    "#CRIANDO TABELAS DE NIVEL DE INSTRUCAO E RESPECTIVOS SALARIOS PARA MULHERES\n",
    "\n",
    "#Tabela com Salarios de Mulheres Sem Intrucao\n",
    "Semf= table02[table02.Instruçao == 'Sem']\n",
    "Semf.rename(columns = {'Rendimento':'F_Sem_Inst'}, inplace = True)\n",
    "Instruçao_Semf = Semf.F_Sem_Inst\n",
    "\n",
    "#Tabela com Salarios de Mulheres Com Fundamental Incompleto\n",
    "F_if= table02[table02.Instruçao == 'F_i']\n",
    "F_if.rename(columns = {'Rendimento':'F_F_i'}, inplace = True)\n",
    "Instruçao_F_if = F_if.F_F_i\n",
    "\n",
    "#Tabela com Salarios de Mulheres Com Funaamental Completo\n",
    "F_cf= table02[table02.Instruçao == 'F_c']\n",
    "F_cf.rename(columns = {'Rendimento':'F_F_c'}, inplace = True)\n",
    "Instruçao_F_cf = F_cf.F_F_c\n",
    "\n",
    "#Tabela com Salarios de Mulheres Com Medio Incompleto\n",
    "EM_if= table02[table02.Instruçao == 'EM_i']\n",
    "EM_if.rename(columns = {'Rendimento':'F_EM_i'}, inplace = True)\n",
    "Instruçao_EM_if = EM_if.F_EM_i\n",
    "\n",
    "#Tabela com Salarios de Mulheres Com Medio Completo\n",
    "EM_cf= table02[table02.Instruçao == 'EM_c']\n",
    "EM_cf.rename(columns = {'Rendimento':'F_EM_c'}, inplace = True)\n",
    "Instruçao_EM_cf = EM_cf.F_EM_c\n",
    "\n",
    "#Tabela com Salarios de Mulheres Com Superior Incompleto              \n",
    "Sup_if= table02[table02.Instruçao == 'Sup_i']\n",
    "Sup_if.rename(columns = {'Rendimento':'F_Sup_i'}, inplace = True)             \n",
    "Instruçao_Sup_if = Sup_if.F_Sup_i\n",
    "              \n",
    "#Tabela com Salarios de Mulheres Com Superior Completo\n",
    "Sup_cf= table02[table02.Instruçao == 'Sup_c']\n",
    "Sup_cf.rename(columns = {'Rendimento':'F_Sup_c'}, inplace = True)                          \n",
    "Instruçao_Sup_cf = Sup_cf.F_Sup_c"
   ]
  },
  {
   "cell_type": "markdown",
   "metadata": {},
   "source": [
    "#COMPARANDO SALARIOS DE HOMENS E MULHERES COM O MESMO NIVEL DE INSTRUCAO"
   ]
  },
  {
   "cell_type": "code",
   "execution_count": 12,
   "metadata": {
    "collapsed": false
   },
   "outputs": [
    {
     "data": {
      "text/plain": [
       "count    872.000000\n",
       "mean       6.920482\n",
       "std        0.390099\n",
       "min        5.703782\n",
       "25%        6.551080\n",
       "50%        6.849589\n",
       "75%        7.170120\n",
       "max        9.104980\n",
       "Name: H_Sem_Inst, dtype: float64"
      ]
     },
     "execution_count": 12,
     "metadata": {},
     "output_type": "execute_result"
    },
    {
     "data": {
      "image/png": "[encoded data removed]",
      "text/plain": [
       "<matplotlib.figure.Figure at 0x748c630>"
      ]
     },
     "metadata": {},
     "output_type": "display_data"
    }
   ],
   "source": [
    "#Box de Salarios de Homens sem Instrucao\n",
    "Instruçao_Semh.plot(kind='box', color=('red'), figsize= (2.0, 7.0), ylim = [5,10])\n",
    "Instruçao_Semh.describe()"
   ]
  },
  {
   "cell_type": "code",
   "execution_count": 13,
   "metadata": {
    "collapsed": false
   },
   "outputs": [
    {
     "data": {
      "text/plain": [
       "count    167.000000\n",
       "mean       6.711996\n",
       "std        0.334478\n",
       "min        5.991465\n",
       "25%        6.519147\n",
       "50%        6.568078\n",
       "75%        6.802395\n",
       "max        8.527935\n",
       "Name: F_Sem_Inst, dtype: float64"
      ]
     },
     "execution_count": 13,
     "metadata": {},
     "output_type": "execute_result"
    },
    {
     "data": {
      "image/png": "[encoded data removed]",
      "text/plain": [
       "<matplotlib.figure.Figure at 0x79046a0>"
      ]
     },
     "metadata": {},
     "output_type": "display_data"
    }
   ],
   "source": [
    "#Box de Salarios de Mulheres sem Instrucao\n",
    "Instruçao_Semf.plot(kind='box', color=('green'), figsize= (2.0, 7.0), ylim = [5,10])\n",
    "Instruçao_Semf.describe()"
   ]
  },
  {
   "cell_type": "code",
   "execution_count": 14,
   "metadata": {
    "collapsed": false
   },
   "outputs": [
    {
     "data": {
      "text/plain": [
       "count    4730.000000\n",
       "mean        7.020194\n",
       "std         0.411519\n",
       "min         5.991465\n",
       "25%         6.684612\n",
       "50%         6.992555\n",
       "75%         7.244228\n",
       "max         9.116030\n",
       "Name: H_F_i, dtype: float64"
      ]
     },
     "execution_count": 14,
     "metadata": {},
     "output_type": "execute_result"
    },
    {
     "data": {
      "image/png": "[encoded data removed]",
      "text/plain": [
       "<matplotlib.figure.Figure at 0x7b94320>"
      ]
     },
     "metadata": {},
     "output_type": "display_data"
    }
   ],
   "source": [
    "#Box de Salarios de Homens com Fundamental Incompleto\n",
    "Instruçao_F_ih.plot(kind='box', color=('red'), figsize= (2.0, 7.0), ylim = [5,10])\n",
    "Instruçao_F_ih.describe()"
   ]
  },
  {
   "cell_type": "code",
   "execution_count": 15,
   "metadata": {
    "collapsed": false
   },
   "outputs": [
    {
     "data": {
      "text/plain": [
       "count    1080.000000\n",
       "mean            -inf\n",
       "std              NaN\n",
       "min             -inf\n",
       "25%         6.519147\n",
       "50%         6.620073\n",
       "75%         6.802395\n",
       "max         8.294050\n",
       "Name: F_F_i, dtype: float64"
      ]
     },
     "execution_count": 15,
     "metadata": {},
     "output_type": "execute_result"
    },
    {
     "data": {
      "image/png": "[encoded data removed]",
      "text/plain": [
       "<matplotlib.figure.Figure at 0x7c673c8>"
      ]
     },
     "metadata": {},
     "output_type": "display_data"
    }
   ],
   "source": [
    "#Box de Salarios de Mulheres com Fundamental Incompleto\n",
    "Instruçao_F_if.plot(kind='box', color=('green'), figsize= (2.0, 7.0), ylim = [5,10])\n",
    "Instruçao_F_if.describe()"
   ]
  },
  {
   "cell_type": "code",
   "execution_count": 16,
   "metadata": {
    "collapsed": false
   },
   "outputs": [
    {
     "data": {
      "text/plain": [
       "count    2558.000000\n",
       "mean        7.119167\n",
       "std         0.430892\n",
       "min         6.109248\n",
       "25%         6.802395\n",
       "50%         7.090077\n",
       "75%         7.377759\n",
       "max         9.472705\n",
       "Name: H_F_c, dtype: float64"
      ]
     },
     "execution_count": 16,
     "metadata": {},
     "output_type": "execute_result"
    },
    {
     "data": {
      "image/png": "[encoded data removed]",
      "text/plain": [
       "<matplotlib.figure.Figure at 0x7c24cf8>"
      ]
     },
     "metadata": {},
     "output_type": "display_data"
    }
   ],
   "source": [
    "#Box de Salarios de Homens com Fundamental Completo\n",
    "Instruçao_F_ch.plot(kind='box', color=('red'), figsize= (2.0, 7.0), ylim = [5,10])\n",
    "Instruçao_F_ch.describe()"
   ]
  },
  {
   "cell_type": "code",
   "execution_count": 17,
   "metadata": {
    "collapsed": false
   },
   "outputs": [
    {
     "data": {
      "text/plain": [
       "count    686.000000\n",
       "mean       6.770209\n",
       "std        0.304287\n",
       "min        5.703782\n",
       "25%        6.525380\n",
       "50%        6.684612\n",
       "75%        6.907755\n",
       "max        8.517193\n",
       "Name: F_F_c, dtype: float64"
      ]
     },
     "execution_count": 17,
     "metadata": {},
     "output_type": "execute_result"
    },
    {
     "data": {
      "image/png": "[encoded data removed]",
      "text/plain": [
       "<matplotlib.figure.Figure at 0x7d00b70>"
      ]
     },
     "metadata": {},
     "output_type": "display_data"
    }
   ],
   "source": [
    "#Box de Salarios de Mulheres com Fundamental Completo\n",
    "Instruçao_F_cf.plot(kind='box', color=('green'), figsize= (2.0, 7.0), ylim = [5,10])\n",
    "Instruçao_F_cf.describe()"
   ]
  },
  {
   "cell_type": "code",
   "execution_count": 18,
   "metadata": {
    "collapsed": false
   },
   "outputs": [
    {
     "data": {
      "text/plain": [
       "count    1272.000000\n",
       "mean        7.075476\n",
       "std         0.427499\n",
       "min         6.437752\n",
       "25%         6.712954\n",
       "50%         7.008955\n",
       "75%         7.313220\n",
       "max         8.699515\n",
       "Name: H_EM_i, dtype: float64"
      ]
     },
     "execution_count": 18,
     "metadata": {},
     "output_type": "execute_result"
    },
    {
     "data": {
      "image/png": "[encoded data removed]",
      "text/plain": [
       "<matplotlib.figure.Figure at 0x7d4fd30>"
      ]
     },
     "metadata": {},
     "output_type": "display_data"
    }
   ],
   "source": [
    "#Box de Salarios de Homens com Medio Incompleto\n",
    "Instruçao_EM_ih.plot(kind='box', color=('red'), figsize= (2.0, 7.0), ylim = [5,10])\n",
    "Instruçao_EM_ih.describe()"
   ]
  },
  {
   "cell_type": "code",
   "execution_count": 19,
   "metadata": {
    "collapsed": false
   },
   "outputs": [
    {
     "data": {
      "text/plain": [
       "count    415.000000\n",
       "mean       6.736107\n",
       "std        0.274861\n",
       "min        5.703782\n",
       "25%        6.536692\n",
       "50%        6.684612\n",
       "75%        6.856462\n",
       "max        8.699515\n",
       "Name: F_EM_i, dtype: float64"
      ]
     },
     "execution_count": 19,
     "metadata": {},
     "output_type": "execute_result"
    },
    {
     "data": {
      "image/png": "[encoded data removed]",
      "text/plain": [
       "<matplotlib.figure.Figure at 0x7dbf668>"
      ]
     },
     "metadata": {},
     "output_type": "display_data"
    }
   ],
   "source": [
    "#Box de Salarios de Mulheres com Medio Incompleto\n",
    "Instruçao_EM_if.plot(kind='box', color=('green'), figsize= (2.0, 7.0), ylim = [5,10])\n",
    "Instruçao_EM_if.describe()"
   ]
  },
  {
   "cell_type": "code",
   "execution_count": 20,
   "metadata": {
    "collapsed": false
   },
   "outputs": [
    {
     "data": {
      "text/plain": [
       "count    7692.000000\n",
       "mean        7.267434\n",
       "std         0.514235\n",
       "min         5.605802\n",
       "25%         6.907755\n",
       "50%         7.212294\n",
       "75%         7.600902\n",
       "max         9.998798\n",
       "Name: H_EM_c, dtype: float64"
      ]
     },
     "execution_count": 20,
     "metadata": {},
     "output_type": "execute_result"
    },
    {
     "data": {
      "image/png": "[encoded data removed]",
      "text/plain": [
       "<matplotlib.figure.Figure at 0x7e1e630>"
      ]
     },
     "metadata": {},
     "output_type": "display_data"
    }
   ],
   "source": [
    "#Box de Salarios de Homens com Medio Completo\n",
    "Instruçao_EM_ch.plot(kind='box', color=('red'), figsize= (2.0, 7.0), ylim = [5,10])\n",
    "Instruçao_EM_ch.describe()"
   ]
  },
  {
   "cell_type": "code",
   "execution_count": 21,
   "metadata": {
    "collapsed": false
   },
   "outputs": [
    {
     "data": {
      "text/plain": [
       "count    3230.000000\n",
       "mean        6.893897\n",
       "std         0.388783\n",
       "min         5.703782\n",
       "25%         6.584791\n",
       "50%         6.802395\n",
       "75%         7.090077\n",
       "max         9.457200\n",
       "Name: F_EM_c, dtype: float64"
      ]
     },
     "execution_count": 21,
     "metadata": {},
     "output_type": "execute_result"
    },
    {
     "data": {
      "image/png": "[encoded data removed]",
      "text/plain": [
       "<matplotlib.figure.Figure at 0x7eed8d0>"
      ]
     },
     "metadata": {},
     "output_type": "display_data"
    }
   ],
   "source": [
    "#Box de Salarios de Mulheres com Medio Completo\n",
    "Instruçao_EM_cf.plot(kind='box', color=('green'), figsize= (2.0, 7.0), ylim = [5,10])\n",
    "Instruçao_EM_cf.describe()"
   ]
  },
  {
   "cell_type": "code",
   "execution_count": 22,
   "metadata": {
    "collapsed": false
   },
   "outputs": [
    {
     "data": {
      "text/plain": [
       "count    918.000000\n",
       "mean       7.595954\n",
       "std        0.650458\n",
       "min        5.703782\n",
       "25%        7.090077\n",
       "50%        7.600902\n",
       "75%        8.006368\n",
       "max        9.903488\n",
       "Name: H_Sup_i, dtype: float64"
      ]
     },
     "execution_count": 22,
     "metadata": {},
     "output_type": "execute_result"
    },
    {
     "data": {
      "image/png": "[encoded data removed]",
      "text/plain": [
       "<matplotlib.figure.Figure at 0x7e83978>"
      ]
     },
     "metadata": {},
     "output_type": "display_data"
    }
   ],
   "source": [
    "#Box de Salarios de Homens com Superior Incompleto\n",
    "Instruçao_Sup_ih.plot(kind='box', color=('red'), figsize= (2.0, 7.0), ylim = [5,10])\n",
    "Instruçao_Sup_ih.describe()"
   ]
  },
  {
   "cell_type": "code",
   "execution_count": 23,
   "metadata": {
    "collapsed": false
   },
   "outputs": [
    {
     "data": {
      "text/plain": [
       "count    543.000000\n",
       "mean       7.203384\n",
       "std        0.538780\n",
       "min        5.828946\n",
       "25%        6.802395\n",
       "50%        7.090077\n",
       "75%        7.495542\n",
       "max        9.615805\n",
       "Name: F_Sup_i, dtype: float64"
      ]
     },
     "execution_count": 23,
     "metadata": {},
     "output_type": "execute_result"
    },
    {
     "data": {
      "image/png": "[encoded data removed]",
      "text/plain": [
       "<matplotlib.figure.Figure at 0x7f627b8>"
      ]
     },
     "metadata": {},
     "output_type": "display_data"
    }
   ],
   "source": [
    "#Box de Salarios de Mulheres com Superior Incompleto\n",
    "Instruçao_Sup_if.plot(kind='box', color=('green'), figsize= (2.0, 7.0), ylim = [5,10])\n",
    "Instruçao_Sup_if.describe()"
   ]
  },
  {
   "cell_type": "code",
   "execution_count": 24,
   "metadata": {
    "collapsed": false
   },
   "outputs": [
    {
     "data": {
      "text/plain": [
       "count    2199.000000\n",
       "mean        8.212849\n",
       "std         0.776973\n",
       "min         6.519147\n",
       "25%         7.600902\n",
       "50%         8.160518\n",
       "75%         8.748305\n",
       "max        10.819778\n",
       "Name: H_Sup_c, dtype: float64"
      ]
     },
     "execution_count": 24,
     "metadata": {},
     "output_type": "execute_result"
    },
    {
     "data": {
      "image/png": "[encoded data removed]",
      "text/plain": [
       "<matplotlib.figure.Figure at 0x7f2a278>"
      ]
     },
     "metadata": {},
     "output_type": "display_data"
    }
   ],
   "source": [
    "#Box de Salarios de Homens com Superior Completo\n",
    "Instruçao_Sup_ch.plot(kind='box', color=('red'), figsize= (2.0, 7.0), ylim = [5,10])\n",
    "Instruçao_Sup_ch.describe()"
   ]
  },
  {
   "cell_type": "code",
   "execution_count": 25,
   "metadata": {
    "collapsed": false
   },
   "outputs": [
    {
     "data": {
      "text/plain": [
       "count    1232.000000\n",
       "mean        7.729187\n",
       "std         0.733841\n",
       "min         5.826000\n",
       "25%         7.170120\n",
       "50%         7.603396\n",
       "75%         8.268732\n",
       "max        10.596635\n",
       "Name: F_Sup_c, dtype: float64"
      ]
     },
     "execution_count": 25,
     "metadata": {},
     "output_type": "execute_result"
    },
    {
     "data": {
      "image/png": "[encoded data removed]",
      "text/plain": [
       "<matplotlib.figure.Figure at 0x7e67f98>"
      ]
     },
     "metadata": {},
     "output_type": "display_data"
    }
   ],
   "source": [
    "#Box de Salarios de Mulheres com Superior Completo\n",
    "Instruçao_Sup_cf.plot(kind='box', color=('green'), figsize= (2.0, 7.0), ylim = [5,10])\n",
    "Instruçao_Sup_cf.describe()"
   ]
  },
  {
   "cell_type": "markdown",
   "metadata": {},
   "source": [
    "#COMPARANDO SALARIOS DE HOMENS E MULHERES COM O MESMO ANOS DE TRABALHO"
   ]
  },
  {
   "cell_type": "code",
   "execution_count": 26,
   "metadata": {
    "collapsed": false
   },
   "outputs": [
    {
     "data": {
      "text/plain": [
       "count    16377.000000\n",
       "mean         7.213345\n",
       "std          0.581417\n",
       "min          5.605802\n",
       "25%          6.802395\n",
       "50%          7.090077\n",
       "75%          7.495542\n",
       "max         10.819778\n",
       "Name: H_zero_a_dez, dtype: float64"
      ]
     },
     "execution_count": 26,
     "metadata": {},
     "output_type": "execute_result"
    },
    {
     "data": {
      "image/png": "[encoded data removed]",
      "text/plain": [
       "<matplotlib.figure.Figure at 0x7b96048>"
      ]
     },
     "metadata": {},
     "output_type": "display_data"
    }
   ],
   "source": [
    "#Histograma de Salario de Homens que trabalham de 0 a 10 anos\n",
    "faixas = (5,6,7,8,9,10)\n",
    "pd.DataFrame.plot(kind='hist', data=Anos_zero_a_dezh, bins=faixas, color=('red'), normed=True, legend=False, ylim = [0,0.7])\n",
    "Anos_zero_a_dezh.describe()"
   ]
  },
  {
   "cell_type": "code",
   "execution_count": 27,
   "metadata": {
    "collapsed": false
   },
   "outputs": [
    {
     "data": {
      "text/plain": [
       "count    6346.000000\n",
       "mean            -inf\n",
       "std              NaN\n",
       "min             -inf\n",
       "25%         6.564208\n",
       "50%         6.802395\n",
       "75%         7.090077\n",
       "max         9.903488\n",
       "Name: M_zero_a_dez, dtype: float64"
      ]
     },
     "execution_count": 27,
     "metadata": {},
     "output_type": "execute_result"
    },
    {
     "data": {
      "image/png": "[encoded data removed]",
      "text/plain": [
       "<matplotlib.figure.Figure at 0x7b94a90>"
      ]
     },
     "metadata": {},
     "output_type": "display_data"
    }
   ],
   "source": [
    "#Histograma de Salario de Mulheres que trabalham de 0 a 10 anos\n",
    "pd.DataFrame.plot(kind='hist', data=Anos_zero_a_dezm, bins=faixas, color=('green'), normed=True, legend=False, ylim = [0,0.7])\n",
    "Anos_zero_a_dezm.describe()"
   ]
  },
  {
   "cell_type": "code",
   "execution_count": 28,
   "metadata": {
    "collapsed": false
   },
   "outputs": [
    {
     "data": {
      "text/plain": [
       "count    2722.000000\n",
       "mean        7.464431\n",
       "std         0.660817\n",
       "min         6.396930\n",
       "25%         7.003065\n",
       "50%         7.313220\n",
       "75%         7.824046\n",
       "max        10.308953\n",
       "Name: H_onze_a_vinte, dtype: float64"
      ]
     },
     "execution_count": 28,
     "metadata": {},
     "output_type": "execute_result"
    },
    {
     "data": {
      "image/png": "[encoded data removed]",
      "text/plain": [
       "<matplotlib.figure.Figure at 0x7c3a7b8>"
      ]
     },
     "metadata": {},
     "output_type": "display_data"
    }
   ],
   "source": [
    "#Histograma de Salario de Homens que trabalham de 11 a 20 anos\n",
    "pd.DataFrame.plot(kind='hist', data=Anos_onze_a_vinteh, bins=faixas, color=('red'), normed=True, legend=False, ylim = [0,0.7])\n",
    "Anos_onze_a_vinteh.describe()"
   ]
  },
  {
   "cell_type": "code",
   "execution_count": 29,
   "metadata": {
    "collapsed": false
   },
   "outputs": [
    {
     "data": {
      "text/plain": [
       "count    712.000000\n",
       "mean       7.264554\n",
       "std        0.697616\n",
       "min        5.826000\n",
       "25%        6.684612\n",
       "50%        7.090077\n",
       "75%        7.617760\n",
       "max       10.596635\n",
       "Name: M_onze_a_vinte, dtype: float64"
      ]
     },
     "execution_count": 29,
     "metadata": {},
     "output_type": "execute_result"
    },
    {
     "data": {
      "image/png": "[encoded data removed]",
      "text/plain": [
       "<matplotlib.figure.Figure at 0x7e2f6d8>"
      ]
     },
     "metadata": {},
     "output_type": "display_data"
    }
   ],
   "source": [
    "#Histograma de Salario de Mulheres que trabalham de 11 a 20 anos\n",
    "pd.DataFrame.plot(kind='hist', data=Anos_onze_a_vintem, bins=faixas, color=('green'), normed=True, legend=False, ylim = [0,0.7])\n",
    "Anos_onze_a_vintem.describe()"
   ]
  },
  {
   "cell_type": "code",
   "execution_count": 30,
   "metadata": {
    "collapsed": false
   },
   "outputs": [
    {
     "data": {
      "text/plain": [
       "count    946.000000\n",
       "mean       7.758394\n",
       "std        0.778225\n",
       "min        6.519147\n",
       "25%        7.170120\n",
       "50%        7.600902\n",
       "75%        8.181646\n",
       "max       10.596635\n",
       "Name: H_vinteum_a_trinta, dtype: float64"
      ]
     },
     "execution_count": 30,
     "metadata": {},
     "output_type": "execute_result"
    },
    {
     "data": {
      "image/png": "[encoded data removed]",
      "text/plain": [
       "<matplotlib.figure.Figure at 0x7bf1c18>"
      ]
     },
     "metadata": {},
     "output_type": "display_data"
    }
   ],
   "source": [
    "#Histograma de Salario de Homens que trabalham de 21 a 30 anos\n",
    "pd.DataFrame.plot(kind='hist', data=Anos_vinteum_a_trintah, bins=faixas, color=('red'), normed=True, legend=False, ylim = [0,0.7])\n",
    "Anos_vinteum_a_trintah.describe()"
   ]
  },
  {
   "cell_type": "code",
   "execution_count": 31,
   "metadata": {
    "collapsed": false
   },
   "outputs": [
    {
     "data": {
      "text/plain": [
       "count    258.000000\n",
       "mean       7.409346\n",
       "std        0.762875\n",
       "min        5.768321\n",
       "25%        6.802395\n",
       "50%        7.244228\n",
       "75%        7.919807\n",
       "max        9.615805\n",
       "Name: M_vinteum_a_trinta, dtype: float64"
      ]
     },
     "execution_count": 31,
     "metadata": {},
     "output_type": "execute_result"
    },
    {
     "data": {
      "image/png": "[encoded data removed]",
      "text/plain": [
       "<matplotlib.figure.Figure at 0x7e165c0>"
      ]
     },
     "metadata": {},
     "output_type": "display_data"
    }
   ],
   "source": [
    "#Histograma de Salario de Mulheres que trabalham de 21 a 30 anos\n",
    "pd.DataFrame.plot(kind='hist', data=Anos_vinteum_a_trintam, bins=faixas, color=('green'), normed=True, legend=False, ylim = [0,0.7])\n",
    "Anos_vinteum_a_trintam.describe()"
   ]
  },
  {
   "cell_type": "code",
   "execution_count": 32,
   "metadata": {
    "collapsed": false
   },
   "outputs": [
    {
     "data": {
      "text/plain": [
       "count    231.000000\n",
       "mean       7.880510\n",
       "std        0.850793\n",
       "min        6.519147\n",
       "25%        7.244228\n",
       "50%        7.749322\n",
       "75%        8.517193\n",
       "max       10.645425\n",
       "Name: H_trintaum_a_quarenta, dtype: float64"
      ]
     },
     "execution_count": 32,
     "metadata": {},
     "output_type": "execute_result"
    },
    {
     "data": {
      "image/png": "[encoded data removed]",
      "text/plain": [
       "<matplotlib.figure.Figure at 0x7d18668>"
      ]
     },
     "metadata": {},
     "output_type": "display_data"
    }
   ],
   "source": [
    "#Histograma de Salarios de Homens que trabalham de 31 a 40 anos\n",
    "pd.DataFrame.plot(kind='hist', data=Anos_trintaum_a_quarentah, bins=faixas, color=('red'), normed=True, legend=False, ylim = [0,0.7])\n",
    "Anos_trintaum_a_quarentah.describe()"
   ]
  },
  {
   "cell_type": "code",
   "execution_count": 33,
   "metadata": {
    "collapsed": false
   },
   "outputs": [
    {
     "data": {
      "text/plain": [
       "count    61.000000\n",
       "mean      7.843638\n",
       "std       0.845880\n",
       "min       6.519147\n",
       "25%       7.212294\n",
       "50%       7.824046\n",
       "75%       8.294050\n",
       "max       9.998798\n",
       "Name: M_trintaum_a_quarenta, dtype: float64"
      ]
     },
     "execution_count": 33,
     "metadata": {},
     "output_type": "execute_result"
    },
    {
     "data": {
      "image/png": "[encoded data removed]",
      "text/plain": [
       "<matplotlib.figure.Figure at 0x7cae828>"
      ]
     },
     "metadata": {},
     "output_type": "display_data"
    }
   ],
   "source": [
    "#Histograma de Salarios de Mulheres que trabalham de 31 a 40 anos\n",
    "pd.DataFrame.plot(kind='hist', data=Anos_trintaum_a_quarentam, bins=faixas, color=('green'), normed=True, legend=False, ylim = [0,0.7])\n",
    "Anos_trintaum_a_quarentam.describe()"
   ]
  },
  {
   "cell_type": "code",
   "execution_count": 34,
   "metadata": {
    "collapsed": false
   },
   "outputs": [
    {
     "data": {
      "text/plain": [
       "count    16.000000\n",
       "mean      7.946893\n",
       "std       0.920055\n",
       "min       6.802395\n",
       "25%       7.432713\n",
       "50%       7.648558\n",
       "75%       8.006368\n",
       "max       9.740969\n",
       "Name: H_quarentaum_a_cinquenta, dtype: float64"
      ]
     },
     "execution_count": 34,
     "metadata": {},
     "output_type": "execute_result"
    },
    {
     "data": {
      "image/png": "[encoded data removed]",
      "text/plain": [
       "<matplotlib.figure.Figure at 0x7fa15c0>"
      ]
     },
     "metadata": {},
     "output_type": "display_data"
    }
   ],
   "source": [
    "#Histograma de Salarios de Homens que trabalham de 41 a 50 anos\n",
    "pd.DataFrame.plot(kind='hist', data=Anos_quarentaum_a_cinquentah, bins=faixas, color=('red'), normed=True, legend=False, ylim = [0,0.7])\n",
    "Anos_quarentaum_a_cinquentah.describe()"
   ]
  },
  {
   "cell_type": "code",
   "execution_count": 35,
   "metadata": {
    "collapsed": false
   },
   "outputs": [
    {
     "data": {
      "text/plain": [
       "count    5.000000\n",
       "mean     7.655493\n",
       "std      1.297331\n",
       "min      6.519147\n",
       "25%      6.678342\n",
       "50%      7.170120\n",
       "75%      8.294050\n",
       "max      9.615805\n",
       "Name: M_quarentaum_a_cinquenta, dtype: float64"
      ]
     },
     "execution_count": 35,
     "metadata": {},
     "output_type": "execute_result"
    },
    {
     "data": {
      "image/png": "[encoded data removed]",
      "text/plain": [
       "<matplotlib.figure.Figure at 0x7c8a438>"
      ]
     },
     "metadata": {},
     "output_type": "display_data"
    }
   ],
   "source": [
    "#Histograma de Salarios de Mulheres que trabalham de 41 a 50 anos\n",
    "pd.DataFrame.plot(kind='hist', data=Anos_quarentaum_a_cinquentam, bins=faixas, color=('green'), normed=True, legend=False, ylim = [0,0.7])\n",
    "Anos_quarentaum_a_cinquentam.describe()"
   ]
  },
  {
   "cell_type": "code",
   "execution_count": 36,
   "metadata": {
    "collapsed": false
   },
   "outputs": [
    {
     "data": {
      "text/plain": [
       "count    6.000000\n",
       "mean     7.991388\n",
       "std      1.345634\n",
       "min      6.519147\n",
       "25%      6.930101\n",
       "50%      7.803635\n",
       "75%      8.910535\n",
       "max      9.903488\n",
       "Name: H_cinquentaum_a_sessenta, dtype: float64"
      ]
     },
     "execution_count": 36,
     "metadata": {},
     "output_type": "execute_result"
    },
    {
     "data": {
      "image/png": "[encoded data removed]",
      "text/plain": [
       "<matplotlib.figure.Figure at 0x7be06a0>"
      ]
     },
     "metadata": {},
     "output_type": "display_data"
    }
   ],
   "source": [
    "#Histograma de Salarios de Homens que trabalham de 51 a 60 anos\n",
    "pd.DataFrame.plot(kind='hist', data=Anos_cinquentaum_a_sessentah, bins=faixas, color=('red'), normed=True, legend=False, ylim = [0,0.7])\n",
    "Anos_cinquentaum_a_sessentah.describe()"
   ]
  },
  {
   "cell_type": "code",
   "execution_count": 37,
   "metadata": {
    "collapsed": false
   },
   "outputs": [
    {
     "data": {
      "text/plain": [
       "count    1.000000\n",
       "mean     8.006368\n",
       "std           NaN\n",
       "min      8.006368\n",
       "25%      8.006368\n",
       "50%      8.006368\n",
       "75%      8.006368\n",
       "max      8.006368\n",
       "Name: M_cinquentaum_a_sessenta, dtype: float64"
      ]
     },
     "execution_count": 37,
     "metadata": {},
     "output_type": "execute_result"
    },
    {
     "data": {
      "image/png": "[encoded data removed]",
      "text/plain": [
       "<matplotlib.figure.Figure at 0x7c22358>"
      ]
     },
     "metadata": {},
     "output_type": "display_data"
    }
   ],
   "source": [
    "#Histograma de Salarios de Mulheres que trabalham de 51 a 60 anos\n",
    "pd.DataFrame.plot(kind='hist', data=Anos_cinquentaum_a_sessentam, bins=faixas, color=('green'), normed=True, legend=False, ylim = [0,0.7])\n",
    "Anos_cinquentaum_a_sessentam.describe()"
   ]
  },
  {
   "cell_type": "code",
   "execution_count": 38,
   "metadata": {
    "collapsed": false
   },
   "outputs": [
    {
     "data": {
      "text/plain": [
       "<matplotlib.axes._subplots.AxesSubplot at 0x7c35f98>"
      ]
     },
     "execution_count": 38,
     "metadata": {},
     "output_type": "execute_result"
    },
    {
     "data": {
      "image/png": "[encoded data removed]",
      "text/plain": [
       "<matplotlib.figure.Figure at 0x7bf1ac8>"
      ]
     },
     "metadata": {},
     "output_type": "display_data"
    }
   ],
   "source": [
    "#Grafico de concentracao de Anos de Estudo X Renda para Homens\n",
    "table01.plot(kind='hexbin',x = 'Rendimento',y='Anos_Estudo', gridsize = 10)"
   ]
  },
  {
   "cell_type": "code",
   "execution_count": 39,
   "metadata": {
    "collapsed": false
   },
   "outputs": [
    {
     "data": {
      "text/plain": [
       "<matplotlib.axes._subplots.AxesSubplot at 0x7d1eb70>"
      ]
     },
     "execution_count": 39,
     "metadata": {},
     "output_type": "execute_result"
    },
    {
     "data": {
      "image/png": "[encoded data removed]",
      "text/plain": [
       "<matplotlib.figure.Figure at 0x7cea208>"
      ]
     },
     "metadata": {},
     "output_type": "display_data"
    }
   ],
   "source": [
    "#Grafico de Concentracao de Anos de Estudo X Renda para Mulheres\n",
    "table02.plot('Rendimento','Anos_Estudo', kind='hexbin', gridsize = 10)"
   ]
  },
  {
   "cell_type": "code",
   "execution_count": 40,
   "metadata": {
    "collapsed": false
   },
   "outputs": [
    {
     "name": "stdout",
     "output_type": "stream",
     "text": [
      "6.55272375536\n",
      "0.0719338893151\n"
     ]
    },
    {
     "data": {
      "image/png": "[encoded data removed]",
      "text/plain": [
       "<matplotlib.figure.Figure at 0x7df4588>"
      ]
     },
     "metadata": {},
     "output_type": "display_data"
    }
   ],
   "source": [
    "#Grafico de Dispersao de Horas/Semana X Renda para Homens - Com linha de tendencia\n",
    "scatter_and_line(table01 ,\"Anos_Estudo\",\"Rendimento\")\n",
    "#funcao da reta = 0.07213001204418*x+6.55229920216"
   ]
  },
  {
   "cell_type": "code",
   "execution_count": 41,
   "metadata": {
    "collapsed": false
   },
   "outputs": [
    {
     "name": "stdout",
     "output_type": "stream",
     "text": [
      "nan\n",
      "nan\n"
     ]
    },
    {
     "data": {
      "image/png": "[encoded data removed]",
      "text/plain": [
       "<matplotlib.figure.Figure at 0x808bbe0>"
      ]
     },
     "metadata": {},
     "output_type": "display_data"
    }
   ],
   "source": [
    "#Grafico de Dispersao de Horas/Semana X Renda para Mulheres - Com Linha de tendencia\n",
    "scatter_and_line(table02, \"Anos_Estudo\", \"Rendimento\")\n",
    "#funcao da reta = 0.0792325824519*x+6.10554278908"
   ]
  },
  {
   "cell_type": "code",
   "execution_count": null,
   "metadata": {
    "collapsed": true
   },
   "outputs": [],
   "source": []
  }
 ],
 "metadata": {
  "kernelspec": {
   "display_name": "Python 3",
   "language": "python",
   "name": "python3"
  },
  "language_info": {
   "codemirror_mode": {
    "name": "ipython",
    "version": 3
   },
   "file_extension": ".py",
   "mimetype": "text/x-python",
   "name": "python",
   "nbconvert_exporter": "python",
   "pygments_lexer": "ipython3",
   "version": "3.4.1"
  }
 },
 "nbformat": 4,
 "nbformat_minor": 0
}
